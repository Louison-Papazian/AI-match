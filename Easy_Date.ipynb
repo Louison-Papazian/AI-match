{
  "cells": [
    {
      "cell_type": "code",
      "execution_count": 166,
      "metadata": {
        "colab": {
          "base_uri": "https://localhost:8080/"
        },
        "id": "59aHcZbYIzhz",
        "outputId": "cdedd702-b67b-4971-8d15-b4a5745b2dd0"
      },
      "outputs": [
        {
          "output_type": "stream",
          "name": "stdout",
          "text": [
            "Drive already mounted at /content/drive; to attempt to forcibly remount, call drive.mount(\"/content/drive\", force_remount=True).\n",
            "/content/drive/MyDrive/Projet Easy Date\n"
          ]
        }
      ],
      "source": [
        "from google.colab import drive\n",
        "drive.mount('/content/drive')\n",
        "%cd /content/drive/MyDrive/Projet Easy Date"
      ]
    },
    {
      "cell_type": "code",
      "execution_count": 167,
      "metadata": {
        "id": "BQR_LqI6I-EB"
      },
      "outputs": [],
      "source": [
        "import pandas as pd\n",
        "import numpy as np\n",
        "import seaborn as sns\n",
        "import matplotlib.pyplot as plt"
      ]
    },
    {
      "cell_type": "code",
      "execution_count": 168,
      "metadata": {
        "id": "AlVNuHaaI_nG"
      },
      "outputs": [],
      "source": [
        "data = pd.read_csv(\"train.csv\", sep = \";\", on_bad_lines='skip')"
      ]
    },
    {
      "cell_type": "markdown",
      "metadata": {
        "id": "zoQr7Bm8V451"
      },
      "source": [
        "# Préparation des données"
      ]
    },
    {
      "cell_type": "code",
      "execution_count": 169,
      "metadata": {
        "colab": {
          "base_uri": "https://localhost:8080/",
          "height": 266
        },
        "id": "s3fqjL8GJHYe",
        "outputId": "58b07bc8-3ea5-415f-d97b-7820b7cca784"
      },
      "outputs": [
        {
          "output_type": "display_data",
          "data": {
            "text/plain": [
              "<Figure size 432x288 with 1 Axes>"
            ],
            "image/png": "[encoded data removed]"
          },
          "metadata": {
            "needs_background": "light"
          }
        }
      ],
      "source": [
        "# Connaître le nombre de ligne pour faire le pourcentage\n",
        "percent = len(data.axes[0])\n",
        "# Stocker le nombre de valeur manquante en pourcentage\n",
        "missing = (data.isnull().sum().sort_values(ascending = False) / percent)*100\n",
        "# Garder les colonnes qui contiennent plus de 5% de valeurs manquantes\n",
        "missing = missing[missing > 5]\n",
        "# Stocker le nom des colonnes\n",
        "index = missing.index\n",
        "# Légende\n",
        "y_pos = np.arange(len(missing))\n",
        "# Barplot\n",
        "plt.bar(y_pos, missing)\n",
        "plt.xticks(y_pos, index)\n",
        "plt.show()"
      ]
    },
    {
      "cell_type": "code",
      "execution_count": 170,
      "metadata": {
        "id": "CytQM6BdJJgT"
      },
      "outputs": [],
      "source": [
        "data.drop(columns=missing.index, inplace=True)"
      ]
    },
    {
      "cell_type": "code",
      "execution_count": 171,
      "metadata": {
        "colab": {
          "base_uri": "https://localhost:8080/",
          "height": 266
        },
        "id": "KPseohlNJLpf",
        "outputId": "d32a8dde-139b-410b-e541-4226a865e1a0"
      },
      "outputs": [
        {
          "output_type": "display_data",
          "data": {
            "text/plain": [
              "<Figure size 432x288 with 1 Axes>"
            ],
            "image/png": "[encoded data removed]"
          },
          "metadata": {
            "needs_background": "light"
          }
        }
      ],
      "source": [
        "# Connaître le nombre de ligne pour faire le pourcentage\n",
        "percent = len(data.axes[0])\n",
        "# Stocker le nombre de valeur manquante en pourcentage\n",
        "missing = (data.isnull().sum().sort_values(ascending = False) / percent)*100\n",
        "# Garder les colonnes qui contiennent plus de 5% de valeurs manquantes\n",
        "missing = missing[missing > 2]\n",
        "# Stocker le nom des colonnes\n",
        "index = missing.index\n",
        "# Légende\n",
        "y_pos = np.arange(len(missing))\n",
        "# Barplot\n",
        "plt.bar(y_pos, missing)\n",
        "plt.xticks(y_pos, index)\n",
        "plt.show()"
      ]
    },
    {
      "cell_type": "code",
      "execution_count": 172,
      "metadata": {
        "id": "Hhp-ZJJ8JNZc"
      },
      "outputs": [],
      "source": [
        "col = [\"fun_o\", \"intel_o\", \"sinc_o\", \"career_c\", \"attr_o\"]\n",
        "data.drop(columns= col, inplace=True)"
      ]
    },
    {
      "cell_type": "code",
      "execution_count": 173,
      "metadata": {
        "colab": {
          "base_uri": "https://localhost:8080/",
          "height": 266
        },
        "id": "zSCEHahaJZvd",
        "outputId": "a3c237ee-55ce-4b26-b629-2240a35c6e6f"
      },
      "outputs": [
        {
          "output_type": "display_data",
          "data": {
            "text/plain": [
              "<Figure size 432x288 with 1 Axes>"
            ],
            "image/png": "[encoded data removed]"
          },
          "metadata": {
            "needs_background": "light"
          }
        }
      ],
      "source": [
        "# Connaître le nombre de ligne pour faire le pourcentage\n",
        "percent = len(data.axes[0])\n",
        "# Stocker le nombre de valeur manquante en pourcentage\n",
        "missing = (data.isnull().sum().sort_values(ascending = False) / percent)*100\n",
        "# Garder les colonnes qui contiennent plus de 1% de valeurs manquantes\n",
        "missing = missing[missing > 1]\n",
        "# Stocker le nom des colonnes\n",
        "index = missing.index\n",
        "# Légende\n",
        "y_pos = np.arange(len(missing))\n",
        "# Barplot\n",
        "plt.bar(y_pos, missing)\n",
        "plt.xticks(y_pos, index)\n",
        "plt.show()"
      ]
    },
    {
      "cell_type": "code",
      "source": [
        "data = data.replace(\",\", \".\", regex= True)\n",
        "data = data.apply(pd.to_numeric, downcast = \"float\", errors = \"coerce\")\n",
        "\n",
        "data[\"diff_attr\"]  = abs(data[\"attr1_1\"] - data[\"pf_o_att\"])\n",
        "data[\"diff_sinc\"] = abs(data[\"sinc1_1\"] - data[\"pf_o_sin\"])\n",
        "data[\"diff_intel\"] = abs(data[\"intel1_1\"] - data[\"pf_o_int\"])\n",
        "data[\"diff_fun\"] = abs(data[\"fun1_1\"] - data[\"pf_o_fun\"])\n",
        "data[\"diff_amb\"] = abs(data[\"amb1_1\"] - data[\"pf_o_amb\"])\n",
        "data[\"diff_shar\"] = abs(data[\"shar1_1\"] - data[\"pf_o_sha\"])\n",
        "data[\"diff_age\"] = abs(data[\"age\"] - data[\"age_o\"])\n",
        "data[\"int_corr\"] = abs(data[\"int_corr\"])"
      ],
      "metadata": {
        "id": "iT6UiSRg7EAu"
      },
      "execution_count": 174,
      "outputs": []
    },
    {
      "cell_type": "code",
      "source": [
        "from sklearn.model_selection import train_test_split\n",
        "\n",
        "# On enlève les variables qualitatives du dataset\n",
        "exclude = [\"field\", \"from\", \"career\"]\n",
        "quali = data[exclude]\n",
        "data = data.drop(columns=exclude)\n",
        "\n",
        "# Variables pas présentes dans le fichier submission\n",
        "useless = [ \"position\", \"round\", \"dec_o\", \"order\", \"gender\", \"condtn\"]\n",
        "data = data.drop(columns = useless)\n",
        "\n",
        "# On met la target dans la variable Y pour l'apprentissage\n",
        "Y = data[\"match\"]\n",
        "\n",
        "# Toutes les variables d'informations qui ne sont pas explicatives\n",
        "info = [\"idg\", \"wave\", \"partner\", \"match\"]\n",
        "infos = data[info]\n",
        "data = data.drop(columns=info)\n",
        "\n",
        "\n",
        "\n",
        "X_train, X_test, y_train, y_test = train_test_split(data, Y, test_size=0.3, stratify = Y) # 70% training and 30% test\n",
        "graph = pd.concat([X_train, y_train], axis=1, ignore_index=False)"
      ],
      "metadata": {
        "id": "9CjkRUVqpxZ8"
      },
      "execution_count": 175,
      "outputs": []
    },
    {
      "cell_type": "code",
      "source": [
        "outlier = [\"goal\", \"date\", \"go_out\", \"sports\", \"tvsports\", 'exercise', 'dining', 'museums', 'art', 'hiking', 'gaming', \n",
        "                            'clubbing', 'reading', 'tv', 'theater', 'movies', 'concerts', 'music','shopping', 'yoga', \"exphappy\"]\n",
        "\n",
        "X_train.loc[X_train[\"gaming\"] > 10] = X_train.loc[X_train[\"gaming\"] ==10]\n",
        "X_train.loc[X_train[\"reading\"] > 10] = X_train.loc[X_train[\"reading\"] ==10]\n",
        "\n",
        "X_test.loc[X_test[\"gaming\"] > 10] = X_test.loc[X_test[\"gaming\"] ==10]\n",
        "X_test.loc[X_test[\"reading\"] > 10] = X_test.loc[X_test[\"reading\"] ==10]\n",
        "\n",
        "graph.loc[graph[\"gaming\"] > 10] = graph.loc[graph[\"gaming\"] ==10]\n",
        "graph.loc[graph[\"reading\"] > 10] = graph.loc[graph[\"reading\"] ==10]"
      ],
      "metadata": {
        "id": "h0j4BiH1oCkR"
      },
      "execution_count": 176,
      "outputs": []
    },
    {
      "cell_type": "code",
      "source": [
        "iid = X_train[['iid',\"goal\", \"date\", \"go_out\", \"sports\", \"tvsports\", 'exercise', 'dining', 'museums', 'art', 'hiking', 'gaming',\n",
        "       'clubbing', 'reading', 'tv', 'theater', 'movies', 'concerts', 'music','shopping', 'yoga', \"exphappy\"]]\n",
        "\n",
        "iid = X_test[['iid',\"goal\", \"date\", \"go_out\", \"sports\", \"tvsports\", 'exercise', 'dining', 'museums', 'art', 'hiking', 'gaming',\n",
        "       'clubbing', 'reading', 'tv', 'theater', 'movies', 'concerts', 'music','shopping', 'yoga', \"exphappy\"]]\n",
        "\n",
        "iid = iid.drop_duplicates(\"iid\")\n",
        "iid = iid.rename(columns={\"iid\": \"pid\"})\n",
        "\n",
        "\n",
        "X_train = X_train.merge(iid, on = \"pid\", how = \"left\")\n",
        "X_test = X_test.merge(iid, on = \"pid\", how = \"left\")\n",
        "graph = graph.merge(iid, on = \"pid\", how = \"left\")"
      ],
      "metadata": {
        "id": "eNZVI-1AoL_l"
      },
      "execution_count": 177,
      "outputs": []
    },
    {
      "cell_type": "code",
      "execution_count": 178,
      "metadata": {
        "id": "zLwJBe-okOFg"
      },
      "outputs": [],
      "source": [
        "ID = [\"iid_pid\", \"iid\", \"id\", \"pid\"]\n",
        "infos = X_train[ID]\n",
        "X_train = X_train.drop(columns=ID)\n",
        "\n",
        "infos = X_test[ID]\n",
        "X_test = X_test.drop(columns=ID)\n",
        "\n",
        "infos = graph[ID]\n",
        "graph = graph.drop(columns=ID)"
      ]
    },
    {
      "cell_type": "code",
      "source": [
        "X_train = X_train.fillna(X_train.mean())\n",
        "X_test = X_test.fillna(X_test.mean())\n",
        "graph = graph.fillna(graph.mean())"
      ],
      "metadata": {
        "id": "xRSbSrFI8qgj"
      },
      "execution_count": 179,
      "outputs": []
    },
    {
      "cell_type": "code",
      "source": [
        "X_train[\"diff_go_out\"] = abs(X_train[\"go_out_x\"] - X_train[\"go_out_y\"])\n",
        "X_train[\"diff_date\"] = abs(X_train[\"date_x\"] - X_train[\"date_y\"])\n",
        "\n",
        "# Supprimer les doublons des différences \n",
        "diff_doublons = [\"age\", \"age_o\", \"go_out_x\",  \"go_out_y\", \"race\", \"race_o\"]\n",
        "X_train = X_train.drop(columns=diff_doublons)\n",
        "\n",
        "X_test[\"diff_go_out\"] = abs(X_test[\"go_out_x\"] - X_test[\"go_out_y\"])\n",
        "X_test[\"diff_date\"] = abs(X_test[\"date_x\"] - X_test[\"date_y\"])\n",
        "\n",
        "# Supprimer les doublons des différences \n",
        "X_test = X_test.drop(columns=diff_doublons)\n",
        "\n",
        "\n",
        "graph[\"diff_go_out\"] = abs(graph[\"go_out_x\"] - graph[\"go_out_y\"])\n",
        "graph[\"diff_date\"] = abs(graph[\"date_x\"] - graph[\"date_y\"])\n",
        "\n",
        "# Supprimer les doublons des différences \n",
        "graph = graph.drop(columns=diff_doublons)"
      ],
      "metadata": {
        "id": "qg1eA-xuwW-2"
      },
      "execution_count": 180,
      "outputs": []
    },
    {
      "cell_type": "markdown",
      "source": [
        "**TESTER LES GRAPHS AVEC X_TRAIN / Y**"
      ],
      "metadata": {
        "id": "KMeuacWc-6YN"
      }
    },
    {
      "cell_type": "code",
      "source": [
        "X_train[\"diff_go_out\"] = [0 if el > 2 else 1 for el in X_train[\"diff_go_out\"]]\n",
        "X_test[\"diff_go_out\"] = [0 if el > 2 else 1 for el in X_test[\"diff_go_out\"]]\n",
        "graph[\"diff_go_out\"] = [0 if el > 2 else 1 for el in graph[\"diff_go_out\"]]"
      ],
      "metadata": {
        "id": "hWWdgBw25-Af"
      },
      "execution_count": 181,
      "outputs": []
    },
    {
      "cell_type": "code",
      "execution_count": 118,
      "metadata": {
        "colab": {
          "base_uri": "https://localhost:8080/",
          "height": 314
        },
        "id": "OAX471phloME",
        "outputId": "cba93626-d3c0-4ccd-cbe8-ed13026729fe"
      },
      "outputs": [
        {
          "output_type": "execute_result",
          "data": {
            "text/plain": [
              "Text(0.5, 1.0, \"Taux de match par différence d'âge\")"
            ]
          },
          "metadata": {},
          "execution_count": 118
        },
        {
          "output_type": "display_data",
          "data": {
            "text/plain": [
              "<Figure size 432x288 with 1 Axes>"
            ],
            "image/png": "[encoded data removed]"
          },
          "metadata": {
            "needs_background": "light"
          }
        }
      ],
      "source": [
        "sns.barplot(x = \"diff_age\", y = \"match\", data = graph)\n",
        "plt.ylabel(\"Taux de match\")\n",
        "plt.title(\"Taux de match par différence d'âge\")"
      ]
    },
    {
      "cell_type": "code",
      "execution_count": 182,
      "metadata": {
        "colab": {
          "base_uri": "https://localhost:8080/",
          "height": 314
        },
        "id": "6p0bJNONFUr8",
        "outputId": "2d5ca55e-948b-4a82-f1bb-08405d6d0ee6"
      },
      "outputs": [
        {
          "output_type": "execute_result",
          "data": {
            "text/plain": [
              "Text(0.5, 1.0, \"Taux de match par différence d'âge\")"
            ]
          },
          "metadata": {},
          "execution_count": 182
        },
        {
          "output_type": "display_data",
          "data": {
            "text/plain": [
              "<Figure size 432x288 with 1 Axes>"
            ],
            "image/png": "[encoded data removed]"
          },
          "metadata": {
            "needs_background": "light"
          }
        }
      ],
      "source": [
        "sns.barplot(x = \"diff_go_out\", y = \"match\", data = graph)\n",
        "plt.ylabel(\"Taux de match\")\n",
        "plt.title(\"Taux de match par différence d'âge\")"
      ]
    },
    {
      "cell_type": "code",
      "source": [
        "sns.barplot(x = \"diff_sinc\", y = \"match\", data = graph)\n",
        "plt.ylabel(\"Taux de match\")\n",
        "plt.title(\"Taux de match par différence d'âge\")"
      ],
      "metadata": {
        "colab": {
          "base_uri": "https://localhost:8080/",
          "height": 314
        },
        "id": "ueE-qIY267Q9",
        "outputId": "8e81d750-97a2-4c99-d4e6-12a5a6d34ce7"
      },
      "execution_count": 184,
      "outputs": [
        {
          "output_type": "execute_result",
          "data": {
            "text/plain": [
              "Text(0.5, 1.0, \"Taux de match par différence d'âge\")"
            ]
          },
          "metadata": {},
          "execution_count": 184
        },
        {
          "output_type": "display_data",
          "data": {
            "text/plain": [
              "<Figure size 432x288 with 1 Axes>"
            ],
            "image/png": "[encoded data removed]"
          },
          "metadata": {
            "needs_background": "light"
          }
        }
      ]
    },
    {
      "cell_type": "code",
      "execution_count": 202,
      "metadata": {
        "id": "b7kzLXckrLdE"
      },
      "outputs": [],
      "source": [
        "var_select = [\"int_corr\", \"imprace\", \"diff_age\", \"diff_date\", \"diff_go_out\", \"diff_intel\", \"diff_sinc\", \"diff_shar\", \"diff_amb\", \"diff_attr\", \"diff_fun\"]\n",
        "X_train = X_train[var_select]\n",
        "X_test = X_test[var_select]\n",
        "\n",
        "column = list(test.columns)"
      ]
    },
    {
      "cell_type": "code",
      "source": [
        "test"
      ],
      "metadata": {
        "colab": {
          "base_uri": "https://localhost:8080/",
          "height": 423
        },
        "id": "dkmihbJd-O0w",
        "outputId": "bd2c9632-9c9e-4cfe-c3ab-37b9ae9e9410"
      },
      "execution_count": 196,
      "outputs": [
        {
          "output_type": "execute_result",
          "data": {
            "text/plain": [
              "      int_corr  imprace  diff_age  diff_date  diff_go_out  diff_intel  \\\n",
              "0         0.15      8.0       6.0        2.0            1   14.790001   \n",
              "1         0.41      1.0       6.0        2.0            1    2.000000   \n",
              "2         0.35      1.0       2.0        3.0            1    5.000000   \n",
              "3         0.39      1.0       0.0        4.0            1   25.000000   \n",
              "4         0.09      6.0       6.0        2.0            1    5.000000   \n",
              "...        ...      ...       ...        ...          ...         ...   \n",
              "4757      0.63      1.0       5.0        1.0            1   10.000000   \n",
              "4758      0.03      2.0       6.0        1.0            1   10.000000   \n",
              "4759      0.11      4.0       3.0        1.0            0    7.000000   \n",
              "4760      0.04      1.0       6.0        2.0            1   15.000000   \n",
              "4761      0.52      1.0       1.0        1.0            1    2.130001   \n",
              "\n",
              "      diff_sinc  diff_shar  diff_amb  diff_attr   diff_fun  \n",
              "0     15.470000       2.91      4.02   0.510000   7.090000  \n",
              "1      8.000000       1.00      6.00   2.000000   3.000000  \n",
              "2     10.000000       5.00     10.00  30.000000  20.000000  \n",
              "3      5.000000       5.00      0.00  55.000000  20.000000  \n",
              "4      0.000000      10.00      5.00   5.000000   5.000000  \n",
              "...         ...        ...       ...        ...        ...  \n",
              "4757   5.000000      20.00      5.00  10.000000   0.000000  \n",
              "4758   0.000000      15.00     10.00  10.000000  15.000000  \n",
              "4759   2.000000      10.00      5.00   5.000000   5.000000  \n",
              "4760  25.000000       5.00      5.00  55.000000  15.000000  \n",
              "4761   2.130001      12.60     14.53  12.400001  10.470001  \n",
              "\n",
              "[4762 rows x 11 columns]"
            ],
            "text/html": [
              "\n",
              "  <div id=\"df-39959614-ba00-4acf-a20a-a505d3a496c9\">\n",
              "    <div class=\"colab-df-container\">\n",
              "      <div>\n",
              "<style scoped>\n",
              "    .dataframe tbody tr th:only-of-type {\n",
              "        vertical-align: middle;\n",
              "    }\n",
              "\n",
              "    .dataframe tbody tr th {\n",
              "        vertical-align: top;\n",
              "    }\n",
              "\n",
              "    .dataframe thead th {\n",
              "        text-align: right;\n",
              "    }\n",
              "</style>\n",
              "<table border=\"1\" class=\"dataframe\">\n",
              "  <thead>\n",
              "    <tr style=\"text-align: right;\">\n",
              "      <th></th>\n",
              "      <th>int_corr</th>\n",
              "      <th>imprace</th>\n",
              "      <th>diff_age</th>\n",
              "      <th>diff_date</th>\n",
              "      <th>diff_go_out</th>\n",
              "      <th>diff_intel</th>\n",
              "      <th>diff_sinc</th>\n",
              "      <th>diff_shar</th>\n",
              "      <th>diff_amb</th>\n",
              "      <th>diff_attr</th>\n",
              "      <th>diff_fun</th>\n",
              "    </tr>\n",
              "  </thead>\n",
              "  <tbody>\n",
              "    <tr>\n",
              "      <th>0</th>\n",
              "      <td>0.15</td>\n",
              "      <td>8.0</td>\n",
              "      <td>6.0</td>\n",
              "      <td>2.0</td>\n",
              "      <td>1</td>\n",
              "      <td>14.790001</td>\n",
              "      <td>15.470000</td>\n",
              "      <td>2.91</td>\n",
              "      <td>4.02</td>\n",
              "      <td>0.510000</td>\n",
              "      <td>7.090000</td>\n",
              "    </tr>\n",
              "    <tr>\n",
              "      <th>1</th>\n",
              "      <td>0.41</td>\n",
              "      <td>1.0</td>\n",
              "      <td>6.0</td>\n",
              "      <td>2.0</td>\n",
              "      <td>1</td>\n",
              "      <td>2.000000</td>\n",
              "      <td>8.000000</td>\n",
              "      <td>1.00</td>\n",
              "      <td>6.00</td>\n",
              "      <td>2.000000</td>\n",
              "      <td>3.000000</td>\n",
              "    </tr>\n",
              "    <tr>\n",
              "      <th>2</th>\n",
              "      <td>0.35</td>\n",
              "      <td>1.0</td>\n",
              "      <td>2.0</td>\n",
              "      <td>3.0</td>\n",
              "      <td>1</td>\n",
              "      <td>5.000000</td>\n",
              "      <td>10.000000</td>\n",
              "      <td>5.00</td>\n",
              "      <td>10.00</td>\n",
              "      <td>30.000000</td>\n",
              "      <td>20.000000</td>\n",
              "    </tr>\n",
              "    <tr>\n",
              "      <th>3</th>\n",
              "      <td>0.39</td>\n",
              "      <td>1.0</td>\n",
              "      <td>0.0</td>\n",
              "      <td>4.0</td>\n",
              "      <td>1</td>\n",
              "      <td>25.000000</td>\n",
              "      <td>5.000000</td>\n",
              "      <td>5.00</td>\n",
              "      <td>0.00</td>\n",
              "      <td>55.000000</td>\n",
              "      <td>20.000000</td>\n",
              "    </tr>\n",
              "    <tr>\n",
              "      <th>4</th>\n",
              "      <td>0.09</td>\n",
              "      <td>6.0</td>\n",
              "      <td>6.0</td>\n",
              "      <td>2.0</td>\n",
              "      <td>1</td>\n",
              "      <td>5.000000</td>\n",
              "      <td>0.000000</td>\n",
              "      <td>10.00</td>\n",
              "      <td>5.00</td>\n",
              "      <td>5.000000</td>\n",
              "      <td>5.000000</td>\n",
              "    </tr>\n",
              "    <tr>\n",
              "      <th>...</th>\n",
              "      <td>...</td>\n",
              "      <td>...</td>\n",
              "      <td>...</td>\n",
              "      <td>...</td>\n",
              "      <td>...</td>\n",
              "      <td>...</td>\n",
              "      <td>...</td>\n",
              "      <td>...</td>\n",
              "      <td>...</td>\n",
              "      <td>...</td>\n",
              "      <td>...</td>\n",
              "    </tr>\n",
              "    <tr>\n",
              "      <th>4757</th>\n",
              "      <td>0.63</td>\n",
              "      <td>1.0</td>\n",
              "      <td>5.0</td>\n",
              "      <td>1.0</td>\n",
              "      <td>1</td>\n",
              "      <td>10.000000</td>\n",
              "      <td>5.000000</td>\n",
              "      <td>20.00</td>\n",
              "      <td>5.00</td>\n",
              "      <td>10.000000</td>\n",
              "      <td>0.000000</td>\n",
              "    </tr>\n",
              "    <tr>\n",
              "      <th>4758</th>\n",
              "      <td>0.03</td>\n",
              "      <td>2.0</td>\n",
              "      <td>6.0</td>\n",
              "      <td>1.0</td>\n",
              "      <td>1</td>\n",
              "      <td>10.000000</td>\n",
              "      <td>0.000000</td>\n",
              "      <td>15.00</td>\n",
              "      <td>10.00</td>\n",
              "      <td>10.000000</td>\n",
              "      <td>15.000000</td>\n",
              "    </tr>\n",
              "    <tr>\n",
              "      <th>4759</th>\n",
              "      <td>0.11</td>\n",
              "      <td>4.0</td>\n",
              "      <td>3.0</td>\n",
              "      <td>1.0</td>\n",
              "      <td>0</td>\n",
              "      <td>7.000000</td>\n",
              "      <td>2.000000</td>\n",
              "      <td>10.00</td>\n",
              "      <td>5.00</td>\n",
              "      <td>5.000000</td>\n",
              "      <td>5.000000</td>\n",
              "    </tr>\n",
              "    <tr>\n",
              "      <th>4760</th>\n",
              "      <td>0.04</td>\n",
              "      <td>1.0</td>\n",
              "      <td>6.0</td>\n",
              "      <td>2.0</td>\n",
              "      <td>1</td>\n",
              "      <td>15.000000</td>\n",
              "      <td>25.000000</td>\n",
              "      <td>5.00</td>\n",
              "      <td>5.00</td>\n",
              "      <td>55.000000</td>\n",
              "      <td>15.000000</td>\n",
              "    </tr>\n",
              "    <tr>\n",
              "      <th>4761</th>\n",
              "      <td>0.52</td>\n",
              "      <td>1.0</td>\n",
              "      <td>1.0</td>\n",
              "      <td>1.0</td>\n",
              "      <td>1</td>\n",
              "      <td>2.130001</td>\n",
              "      <td>2.130001</td>\n",
              "      <td>12.60</td>\n",
              "      <td>14.53</td>\n",
              "      <td>12.400001</td>\n",
              "      <td>10.470001</td>\n",
              "    </tr>\n",
              "  </tbody>\n",
              "</table>\n",
              "<p>4762 rows × 11 columns</p>\n",
              "</div>\n",
              "      <button class=\"colab-df-convert\" onclick=\"convertToInteractive('df-39959614-ba00-4acf-a20a-a505d3a496c9')\"\n",
              "              title=\"Convert this dataframe to an interactive table.\"\n",
              "              style=\"display:none;\">\n",
              "        \n",
              "  <svg xmlns=\"http://www.w3.org/2000/svg\" height=\"24px\"viewBox=\"0 0 24 24\"\n",
              "       width=\"24px\">\n",
              "    <path d=\"M0 0h24v24H0V0z\" fill=\"none\"/>\n",
              "    <path d=\"M18.56 5.44l.94 2.06.94-2.06 2.06-.94-2.06-.94-.94-2.06-.94 2.06-2.06.94zm-11 1L8.5 8.5l.94-2.06 2.06-.94-2.06-.94L8.5 2.5l-.94 2.06-2.06.94zm10 10l.94 2.06.94-2.06 2.06-.94-2.06-.94-.94-2.06-.94 2.06-2.06.94z\"/><path d=\"M17.41 7.96l-1.37-1.37c-.4-.4-.92-.59-1.43-.59-.52 0-1.04.2-1.43.59L10.3 9.45l-7.72 7.72c-.78.78-.78 2.05 0 2.83L4 21.41c.39.39.9.59 1.41.59.51 0 1.02-.2 1.41-.59l7.78-7.78 2.81-2.81c.8-.78.8-2.07 0-2.86zM5.41 20L4 18.59l7.72-7.72 1.47 1.35L5.41 20z\"/>\n",
              "  </svg>\n",
              "      </button>\n",
              "      \n",
              "  <style>\n",
              "    .colab-df-container {\n",
              "      display:flex;\n",
              "      flex-wrap:wrap;\n",
              "      gap: 12px;\n",
              "    }\n",
              "\n",
              "    .colab-df-convert {\n",
              "      background-color: #E8F0FE;\n",
              "      border: none;\n",
              "      border-radius: 50%;\n",
              "      cursor: pointer;\n",
              "      display: none;\n",
              "      fill: #1967D2;\n",
              "      height: 32px;\n",
              "      padding: 0 0 0 0;\n",
              "      width: 32px;\n",
              "    }\n",
              "\n",
              "    .colab-df-convert:hover {\n",
              "      background-color: #E2EBFA;\n",
              "      box-shadow: 0px 1px 2px rgba(60, 64, 67, 0.3), 0px 1px 3px 1px rgba(60, 64, 67, 0.15);\n",
              "      fill: #174EA6;\n",
              "    }\n",
              "\n",
              "    [theme=dark] .colab-df-convert {\n",
              "      background-color: #3B4455;\n",
              "      fill: #D2E3FC;\n",
              "    }\n",
              "\n",
              "    [theme=dark] .colab-df-convert:hover {\n",
              "      background-color: #434B5C;\n",
              "      box-shadow: 0px 1px 3px 1px rgba(0, 0, 0, 0.15);\n",
              "      filter: drop-shadow(0px 1px 2px rgba(0, 0, 0, 0.3));\n",
              "      fill: #FFFFFF;\n",
              "    }\n",
              "  </style>\n",
              "\n",
              "      <script>\n",
              "        const buttonEl =\n",
              "          document.querySelector('#df-39959614-ba00-4acf-a20a-a505d3a496c9 button.colab-df-convert');\n",
              "        buttonEl.style.display =\n",
              "          google.colab.kernel.accessAllowed ? 'block' : 'none';\n",
              "\n",
              "        async function convertToInteractive(key) {\n",
              "          const element = document.querySelector('#df-39959614-ba00-4acf-a20a-a505d3a496c9');\n",
              "          const dataTable =\n",
              "            await google.colab.kernel.invokeFunction('convertToInteractive',\n",
              "                                                     [key], {});\n",
              "          if (!dataTable) return;\n",
              "\n",
              "          const docLinkHtml = 'Like what you see? Visit the ' +\n",
              "            '<a target=\"_blank\" href=https://colab.research.google.com/notebooks/data_table.ipynb>data table notebook</a>'\n",
              "            + ' to learn more about interactive tables.';\n",
              "          element.innerHTML = '';\n",
              "          dataTable['output_type'] = 'display_data';\n",
              "          await google.colab.output.renderOutput(dataTable, element);\n",
              "          const docLink = document.createElement('div');\n",
              "          docLink.innerHTML = docLinkHtml;\n",
              "          element.appendChild(docLink);\n",
              "        }\n",
              "      </script>\n",
              "    </div>\n",
              "  </div>\n",
              "  "
            ]
          },
          "metadata": {},
          "execution_count": 196
        }
      ]
    },
    {
      "cell_type": "code",
      "execution_count": null,
      "metadata": {
        "id": "7SRieLbKEXp_"
      },
      "outputs": [],
      "source": [
        "#test = pd.DataFrame((test.values-np.mean(test.values, axis = 0))/np.std(test.values, axis = 0), columns = column)"
      ]
    },
    {
      "cell_type": "markdown",
      "metadata": {
        "id": "H9PoBPVyV0vN"
      },
      "source": [
        "# Modèle"
      ]
    },
    {
      "cell_type": "markdown",
      "source": [
        "## Random F"
      ],
      "metadata": {
        "id": "CGskA4MH-Tb3"
      }
    },
    {
      "cell_type": "code",
      "execution_count": null,
      "metadata": {
        "id": "4vp_2p2I77tv"
      },
      "outputs": [],
      "source": [
        "from sklearn.neighbors import KNeighborsClassifier\n",
        "from sklearn.model_selection import train_test_split\n",
        "\n",
        "# Split dataset into training set and test set"
      ]
    },
    {
      "cell_type": "code",
      "execution_count": 186,
      "metadata": {
        "colab": {
          "base_uri": "https://localhost:8080/",
          "height": 1000
        },
        "id": "iIiJsr_pvRga",
        "outputId": "f377f10f-d997-4527-8e77-e78afbd3e0dc"
      },
      "outputs": [
        {
          "output_type": "error",
          "ename": "TypeError",
          "evalue": "ignored",
          "traceback": [
            "\u001b[0;31m---------------------------------------------------------------------------\u001b[0m",
            "\u001b[0;31mTypeError\u001b[0m                                 Traceback (most recent call last)",
            "\u001b[0;32m<ipython-input-186-72c45ff6858c>\u001b[0m in \u001b[0;36m<module>\u001b[0;34m\u001b[0m\n\u001b[1;32m      9\u001b[0m \u001b[0mcv\u001b[0m \u001b[0;34m=\u001b[0m \u001b[0mRepeatedStratifiedKFold\u001b[0m\u001b[0;34m(\u001b[0m\u001b[0mn_splits\u001b[0m\u001b[0;34m=\u001b[0m\u001b[0;36m10\u001b[0m\u001b[0;34m,\u001b[0m \u001b[0mn_repeats\u001b[0m\u001b[0;34m=\u001b[0m\u001b[0;36m3\u001b[0m\u001b[0;34m,\u001b[0m \u001b[0mrandom_state\u001b[0m\u001b[0;34m=\u001b[0m\u001b[0;36m1\u001b[0m\u001b[0;34m)\u001b[0m\u001b[0;34m\u001b[0m\u001b[0;34m\u001b[0m\u001b[0m\n\u001b[1;32m     10\u001b[0m \u001b[0;31m# evaluate model\u001b[0m\u001b[0;34m\u001b[0m\u001b[0;34m\u001b[0m\u001b[0;34m\u001b[0m\u001b[0m\n\u001b[0;32m---> 11\u001b[0;31m \u001b[0mscores\u001b[0m \u001b[0;34m=\u001b[0m \u001b[0mcross_val_score\u001b[0m\u001b[0;34m(\u001b[0m\u001b[0mdata\u001b[0m\u001b[0;34m,\u001b[0m \u001b[0mX_train\u001b[0m\u001b[0;34m,\u001b[0m \u001b[0my_train\u001b[0m\u001b[0;34m,\u001b[0m \u001b[0mscoring\u001b[0m\u001b[0;34m=\u001b[0m\u001b[0;34m'f1-macro'\u001b[0m\u001b[0;34m,\u001b[0m \u001b[0mcv\u001b[0m\u001b[0;34m=\u001b[0m\u001b[0mcv\u001b[0m\u001b[0;34m,\u001b[0m \u001b[0mn_jobs\u001b[0m\u001b[0;34m=\u001b[0m\u001b[0;34m-\u001b[0m\u001b[0;36m1\u001b[0m\u001b[0;34m)\u001b[0m\u001b[0;34m\u001b[0m\u001b[0;34m\u001b[0m\u001b[0m\n\u001b[0m\u001b[1;32m     12\u001b[0m \u001b[0;31m# summarize performance\u001b[0m\u001b[0;34m\u001b[0m\u001b[0;34m\u001b[0m\u001b[0;34m\u001b[0m\u001b[0m\n\u001b[1;32m     13\u001b[0m \u001b[0mprint\u001b[0m\u001b[0;34m(\u001b[0m\u001b[0;34m'Mean ROC AUC: %.3f'\u001b[0m \u001b[0;34m%\u001b[0m \u001b[0mnp\u001b[0m\u001b[0;34m.\u001b[0m\u001b[0mmean\u001b[0m\u001b[0;34m(\u001b[0m\u001b[0mscores\u001b[0m\u001b[0;34m)\u001b[0m\u001b[0;34m)\u001b[0m\u001b[0;34m\u001b[0m\u001b[0;34m\u001b[0m\u001b[0m\n",
            "\u001b[0;32m/usr/local/lib/python3.7/dist-packages/sklearn/model_selection/_validation.py\u001b[0m in \u001b[0;36mcross_val_score\u001b[0;34m(estimator, X, y, groups, scoring, cv, n_jobs, verbose, fit_params, pre_dispatch, error_score)\u001b[0m\n\u001b[1;32m    505\u001b[0m     \"\"\"\n\u001b[1;32m    506\u001b[0m     \u001b[0;31m# To ensure multimetric format is not supported\u001b[0m\u001b[0;34m\u001b[0m\u001b[0;34m\u001b[0m\u001b[0;34m\u001b[0m\u001b[0m\n\u001b[0;32m--> 507\u001b[0;31m     \u001b[0mscorer\u001b[0m \u001b[0;34m=\u001b[0m \u001b[0mcheck_scoring\u001b[0m\u001b[0;34m(\u001b[0m\u001b[0mestimator\u001b[0m\u001b[0;34m,\u001b[0m \u001b[0mscoring\u001b[0m\u001b[0;34m=\u001b[0m\u001b[0mscoring\u001b[0m\u001b[0;34m)\u001b[0m\u001b[0;34m\u001b[0m\u001b[0;34m\u001b[0m\u001b[0m\n\u001b[0m\u001b[1;32m    508\u001b[0m \u001b[0;34m\u001b[0m\u001b[0m\n\u001b[1;32m    509\u001b[0m     cv_results = cross_validate(\n",
            "\u001b[0;32m/usr/local/lib/python3.7/dist-packages/sklearn/metrics/_scorer.py\u001b[0m in \u001b[0;36mcheck_scoring\u001b[0;34m(estimator, scoring, allow_none)\u001b[0m\n\u001b[1;32m    448\u001b[0m         raise TypeError(\n\u001b[1;32m    449\u001b[0m             \u001b[0;34m\"estimator should be an estimator implementing 'fit' method, %r was passed\"\u001b[0m\u001b[0;34m\u001b[0m\u001b[0;34m\u001b[0m\u001b[0m\n\u001b[0;32m--> 450\u001b[0;31m             \u001b[0;34m%\u001b[0m \u001b[0mestimator\u001b[0m\u001b[0;34m\u001b[0m\u001b[0;34m\u001b[0m\u001b[0m\n\u001b[0m\u001b[1;32m    451\u001b[0m         )\n\u001b[1;32m    452\u001b[0m     \u001b[0;32mif\u001b[0m \u001b[0misinstance\u001b[0m\u001b[0;34m(\u001b[0m\u001b[0mscoring\u001b[0m\u001b[0;34m,\u001b[0m \u001b[0mstr\u001b[0m\u001b[0;34m)\u001b[0m\u001b[0;34m:\u001b[0m\u001b[0;34m\u001b[0m\u001b[0;34m\u001b[0m\u001b[0m\n",
            "\u001b[0;31mTypeError\u001b[0m: estimator should be an estimator implementing 'fit' method,       iid_pid    iid    id    pid  int_corr  samerace  age_o  race_o  \\\n0      6804.0  453.0  14.0  439.0      0.48       0.0   29.0     2.0   \n1      6803.0  453.0  14.0  438.0      0.31       0.0   23.0     2.0   \n2      6802.0  453.0  14.0  437.0      0.40       0.0   23.0     2.0   \n3      6801.0  453.0  14.0  436.0      0.59       0.0   23.0     2.0   \n4      6800.0  453.0  14.0  435.0      0.17       0.0   22.0     1.0   \n...       ...    ...   ...    ...       ...       ...    ...     ...   \n6799      5.0    1.0   1.0   15.0      0.21       0.0   24.0     3.0   \n6800      4.0    1.0   1.0   14.0      0.61       0.0   23.0     2.0   \n6801      3.0    1.0   1.0   13.0      0.16       1.0   22.0     4.0   \n6802      2.0    1.0   1.0   12.0      0.54       0.0   22.0     2.0   \n6803      1.0    1.0   1.0   11.0      0.14       0.0   27.0     2.0   \n\n      pf_o_att  pf_o_sin  ...  fun1_1  amb1_1  shar1_1  diff_attr  diff_sinc  \\\n0         20.0      10.0  ...     5.0     0.0      5.0       10.0       20.0   \n1         14.0      15.0  ...     5.0     0.0      5.0       16.0       15.0   \n2         15.0      15.0  ...     5.0     0.0      5.0       15.0       15.0   \n3         28.0       8.0  ...     5.0     0.0      5.0        2.0       22.0   \n4         25.0       5.0  ...     5.0     0.0      5.0        5.0       25.0   \n...        ...       ...  ...     ...     ...      ...        ...        ...   \n6799      30.0      10.0  ...    15.0    15.0     15.0       15.0       10.0   \n6800      30.0       5.0  ...    15.0    15.0     15.0       15.0       15.0   \n6801      19.0      18.0  ...    15.0    15.0     15.0        4.0        2.0   \n6802      60.0       0.0  ...    15.0    15.0     15.0       45.0       20.0   \n6803      35.0      20.0  ...    15.0    15.0     15.0       20.0        0.0   \n\n      diff_intel  diff_fun  diff_amb  diff_shar  diff_age  \n0           20.0       0.0      10.0        0.0       2.0  \n1           14.0      12.0      18.0       15.0       4.0  \n2           12.0      13.0      14.0       15.0       4.0  \n3           13.0      17.0      17.0        3.0       4.0  \n4           10.0      20.0      15.0        5.0       5.0  \n...          ...       ...       ...        ...       ...  \n6799         0.0       5.0       5.0        5.0       3.0  \n6800         5.0      25.0      10.0       10.0       2.0  \n6801         1.0       3.0       1.0        3.0       1.0  \n6802        20.0      25.0      15.0       15.0       1.0  \n6803         0.0       5.0      15.0       10.0       6.0  \n\n[6804 rows x 53 columns] was passed"
          ]
        }
      ],
      "source": [
        "from sklearn.datasets import make_classification\n",
        "from sklearn.model_selection import cross_val_score\n",
        "from sklearn.model_selection import RepeatedStratifiedKFold\n",
        "from sklearn.ensemble import RandomForestClassifier\n",
        "# generate dataset\n",
        "# define model\n",
        "model = RandomForestClassifier(n_estimators=10, class_weight='balanced')\n",
        "# define evaluation procedure\n",
        "cv = RepeatedStratifiedKFold(n_splits=10, n_repeats=3, random_state=1)\n",
        "# evaluate model\n",
        "scores = cross_val_score(data, X_train, y_train, scoring='f1-macro', cv=cv, n_jobs=-1)\n",
        "# summarize performance\n",
        "print('Mean ROC AUC: %.3f' % np.mean(scores))"
      ]
    },
    {
      "cell_type": "code",
      "execution_count": null,
      "metadata": {
        "colab": {
          "base_uri": "https://localhost:8080/"
        },
        "id": "aZV7cNYiyryF",
        "outputId": "e1fbf0b8-cb8a-400a-8e73-8c211ebc18bc"
      },
      "outputs": [
        {
          "name": "stdout",
          "output_type": "stream",
          "text": [
            "0.9696901153585161\n"
          ]
        }
      ],
      "source": [
        "modelfit = model.fit(X_train, y_train)\n",
        "print(modelfit.score(X_train, y_train))\n",
        "\n",
        "y_pred = modelfit.predict(X_test)"
      ]
    },
    {
      "cell_type": "markdown",
      "metadata": {
        "id": "wRXNgqRPOUP6"
      },
      "source": [
        "## Regréssion logistique (nulle)"
      ]
    },
    {
      "cell_type": "code",
      "execution_count": null,
      "metadata": {
        "colab": {
          "base_uri": "https://localhost:8080/"
        },
        "id": "drq9adHP-7Sj",
        "outputId": "f7eec569-7eaa-4495-8dad-04d29b38849e"
      },
      "outputs": [
        {
          "data": {
            "text/plain": [
              "LogisticRegression()"
            ]
          },
          "execution_count": 612,
          "metadata": {},
          "output_type": "execute_result"
        }
      ],
      "source": [
        "from sklearn.linear_model import LogisticRegression\n",
        "lr = LogisticRegression()\n",
        "lr.fit(X = X_train, y = y_train)"
      ]
    },
    {
      "cell_type": "code",
      "execution_count": null,
      "metadata": {
        "colab": {
          "base_uri": "https://localhost:8080/"
        },
        "id": "fzmnx_Hh_XKU",
        "outputId": "4dc9cc4a-097c-4811-d3f6-1a856a8773dc"
      },
      "outputs": [
        {
          "name": "stdout",
          "output_type": "stream",
          "text": [
            "                 coef\n",
            "diff_age    -0.232678\n",
            "diff_go_out -0.213646\n",
            "imprace     -0.169847\n",
            "diff_sinc   -0.111523\n",
            "diff_attr    0.093655\n",
            "diff_intel  -0.050202\n",
            "int_corr     0.045768\n",
            "diff_date    0.037569\n",
            "diff_shar    0.034546\n",
            "diff_fun     0.024921\n",
            "diff_amb    -0.014107\n"
          ]
        }
      ],
      "source": [
        "temp = pd.DataFrame(lr.coef_[0], index = test.columns, columns = [\"coef\"])\n",
        "print(temp.sort_values(by = \"coef\", ascending = False, key = lambda v:abs(v)))"
      ]
    },
    {
      "cell_type": "code",
      "execution_count": null,
      "metadata": {
        "colab": {
          "base_uri": "https://localhost:8080/"
        },
        "id": "szDsP3vyBLXB",
        "outputId": "82713126-fc1c-487e-80b3-b65c5ff532c2"
      },
      "outputs": [
        {
          "name": "stdout",
          "output_type": "stream",
          "text": [
            "(array([0.]), array([1895]))\n"
          ]
        }
      ],
      "source": [
        "predBrut = lr.predict(X_test)\n",
        "print(np.unique(predBrut, return_counts = True))"
      ]
    },
    {
      "cell_type": "code",
      "execution_count": null,
      "metadata": {
        "colab": {
          "base_uri": "https://localhost:8080/"
        },
        "id": "OE-FJLCqBhTw",
        "outputId": "243924bf-cafa-4750-9fbc-06c405c0293a"
      },
      "outputs": [
        {
          "name": "stdout",
          "output_type": "stream",
          "text": [
            "[[1573    0]\n",
            " [ 322    0]]\n"
          ]
        }
      ],
      "source": [
        "from sklearn import metrics\n",
        "print(metrics.confusion_matrix(y_test, predBrut))"
      ]
    },
    {
      "cell_type": "code",
      "execution_count": null,
      "metadata": {
        "colab": {
          "base_uri": "https://localhost:8080/"
        },
        "id": "S1Sz80iTBuey",
        "outputId": "679fbef0-ec7d-4a2e-e631-f7d4ebca0c06"
      },
      "outputs": [
        {
          "name": "stdout",
          "output_type": "stream",
          "text": [
            "              precision    recall  f1-score   support\n",
            "\n",
            "         0.0       0.83      1.00      0.91      1573\n",
            "         1.0       0.00      0.00      0.00       322\n",
            "\n",
            "    accuracy                           0.83      1895\n",
            "   macro avg       0.42      0.50      0.45      1895\n",
            "weighted avg       0.69      0.83      0.75      1895\n",
            "\n"
          ]
        },
        {
          "name": "stderr",
          "output_type": "stream",
          "text": [
            "/usr/local/lib/python3.7/dist-packages/sklearn/metrics/_classification.py:1318: UndefinedMetricWarning: Precision and F-score are ill-defined and being set to 0.0 in labels with no predicted samples. Use `zero_division` parameter to control this behavior.\n",
            "  _warn_prf(average, modifier, msg_start, len(result))\n",
            "/usr/local/lib/python3.7/dist-packages/sklearn/metrics/_classification.py:1318: UndefinedMetricWarning: Precision and F-score are ill-defined and being set to 0.0 in labels with no predicted samples. Use `zero_division` parameter to control this behavior.\n",
            "  _warn_prf(average, modifier, msg_start, len(result))\n",
            "/usr/local/lib/python3.7/dist-packages/sklearn/metrics/_classification.py:1318: UndefinedMetricWarning: Precision and F-score are ill-defined and being set to 0.0 in labels with no predicted samples. Use `zero_division` parameter to control this behavior.\n",
            "  _warn_prf(average, modifier, msg_start, len(result))\n"
          ]
        }
      ],
      "source": [
        "print(metrics.classification_report(y_test, predBrut))"
      ]
    },
    {
      "cell_type": "code",
      "execution_count": null,
      "metadata": {
        "id": "YwNbyxmAB4Yf"
      },
      "outputs": [],
      "source": [
        "from sklearn.feature_selection import RFECV"
      ]
    },
    {
      "cell_type": "code",
      "execution_count": null,
      "metadata": {
        "colab": {
          "base_uri": "https://localhost:8080/"
        },
        "id": "EjZi0vNXB97P",
        "outputId": "c419162d-1b78-4288-c3a8-2c1c133d27ba"
      },
      "outputs": [
        {
          "data": {
            "text/plain": [
              "RFECV(cv=10, estimator=LogisticRegression(), scoring='f1_macro')"
            ]
          },
          "execution_count": 619,
          "metadata": {},
          "output_type": "execute_result"
        }
      ],
      "source": [
        "sel = RFECV(estimator = lr, cv = 10, scoring = 'f1_macro')\n",
        "sel.fit(X_train, y_train)"
      ]
    },
    {
      "cell_type": "code",
      "execution_count": null,
      "metadata": {
        "colab": {
          "base_uri": "https://localhost:8080/"
        },
        "id": "qC-1Y1O6GA6I",
        "outputId": "fb2befa3-b02c-4e1f-e42a-0c8f12f9995a"
      },
      "outputs": [
        {
          "name": "stderr",
          "output_type": "stream",
          "text": [
            "/usr/local/lib/python3.7/dist-packages/sklearn/utils/deprecation.py:103: FutureWarning: The `grid_scores_` attribute is deprecated in version 1.0 in favor of `cv_results_` and will be removed in version 1.2.\n",
            "  warnings.warn(msg, category=FutureWarning)\n"
          ]
        },
        {
          "data": {
            "text/plain": [
              "array([[0.45308642, 0.45364648, 0.45364648, 0.45364648, 0.45364648,\n",
              "        0.45364648, 0.45364648, 0.45364648, 0.45364648, 0.4529703 ],\n",
              "       [0.45308642, 0.45364648, 0.45364648, 0.45364648, 0.45364648,\n",
              "        0.45364648, 0.45364648, 0.45364648, 0.45364648, 0.4529703 ],\n",
              "       [0.45308642, 0.45364648, 0.45364648, 0.45364648, 0.45364648,\n",
              "        0.45364648, 0.45364648, 0.45364648, 0.45364648, 0.4529703 ],\n",
              "       [0.45308642, 0.45364648, 0.45364648, 0.45364648, 0.45364648,\n",
              "        0.45364648, 0.45364648, 0.45364648, 0.45364648, 0.4529703 ],\n",
              "       [0.45308642, 0.45364648, 0.45364648, 0.45364648, 0.45364648,\n",
              "        0.45364648, 0.45364648, 0.45364648, 0.45364648, 0.4529703 ],\n",
              "       [0.45308642, 0.45364648, 0.45364648, 0.45364648, 0.45364648,\n",
              "        0.45364648, 0.45364648, 0.45364648, 0.45364648, 0.4529703 ],\n",
              "       [0.45308642, 0.45364648, 0.45364648, 0.45364648, 0.45364648,\n",
              "        0.45364648, 0.45364648, 0.45364648, 0.45364648, 0.4529703 ],\n",
              "       [0.45308642, 0.45364648, 0.45364648, 0.45364648, 0.45364648,\n",
              "        0.45364648, 0.45364648, 0.45364648, 0.45364648, 0.4529703 ],\n",
              "       [0.45308642, 0.45364648, 0.45364648, 0.45364648, 0.45364648,\n",
              "        0.45364648, 0.45364648, 0.45364648, 0.45364648, 0.4529703 ],\n",
              "       [0.45308642, 0.45364648, 0.45364648, 0.45364648, 0.45364648,\n",
              "        0.45364648, 0.45364648, 0.45364648, 0.45364648, 0.4529703 ],\n",
              "       [0.45308642, 0.45364648, 0.45364648, 0.45364648, 0.45364648,\n",
              "        0.45364648, 0.45364648, 0.45364648, 0.45364648, 0.4529703 ]])"
            ]
          },
          "execution_count": 620,
          "metadata": {},
          "output_type": "execute_result"
        }
      ],
      "source": [
        "sel.grid_scores_"
      ]
    },
    {
      "cell_type": "code",
      "execution_count": null,
      "metadata": {
        "colab": {
          "base_uri": "https://localhost:8080/",
          "height": 484
        },
        "id": "CC4RmNVKCiiR",
        "outputId": "799b0e81-9298-494b-96ae-4d8a37d5d615"
      },
      "outputs": [
        {
          "name": "stderr",
          "output_type": "stream",
          "text": [
            "/usr/local/lib/python3.7/dist-packages/sklearn/utils/deprecation.py:103: FutureWarning: The `grid_scores_` attribute is deprecated in version 1.0 in favor of `cv_results_` and will be removed in version 1.2.\n",
            "  warnings.warn(msg, category=FutureWarning)\n"
          ]
        },
        {
          "data": {
            "text/plain": [
              "[<matplotlib.lines.Line2D at 0x7f322239a750>,\n",
              " <matplotlib.lines.Line2D at 0x7f322239af50>,\n",
              " <matplotlib.lines.Line2D at 0x7f3222380f90>,\n",
              " <matplotlib.lines.Line2D at 0x7f3222380c50>,\n",
              " <matplotlib.lines.Line2D at 0x7f3222380bd0>,\n",
              " <matplotlib.lines.Line2D at 0x7f3222380b90>,\n",
              " <matplotlib.lines.Line2D at 0x7f3222380110>,\n",
              " <matplotlib.lines.Line2D at 0x7f32223801d0>,\n",
              " <matplotlib.lines.Line2D at 0x7f3222380e50>,\n",
              " <matplotlib.lines.Line2D at 0x7f3222380510>]"
            ]
          },
          "execution_count": 622,
          "metadata": {},
          "output_type": "execute_result"
        },
        {
          "data": {
            "image/png": "[encoded data removed]",
            "text/plain": [
              "<Figure size 432x288 with 1 Axes>"
            ]
          },
          "metadata": {},
          "output_type": "display_data"
        }
      ],
      "source": [
        "import matplotlib.pyplot as plt\n",
        "plt.plot(np.arange(1,12,1), sel.grid_scores_)"
      ]
    },
    {
      "cell_type": "code",
      "execution_count": null,
      "metadata": {
        "id": "Rm7Tivi4Clke"
      },
      "outputs": [],
      "source": [
        "var = list(test.columns[sel.support_])"
      ]
    },
    {
      "cell_type": "code",
      "execution_count": null,
      "metadata": {
        "id": "KSlzF3ZiHb3Y"
      },
      "outputs": [],
      "source": [
        "variables = var\n",
        "data = test[variables]"
      ]
    },
    {
      "cell_type": "code",
      "execution_count": null,
      "metadata": {
        "colab": {
          "base_uri": "https://localhost:8080/"
        },
        "id": "myg_R8fPL2h4",
        "outputId": "2744eb12-4014-472f-a673-9429cc8f7372"
      },
      "outputs": [
        {
          "name": "stdout",
          "output_type": "stream",
          "text": [
            "(array([0.]), array([1895]))\n",
            "[[1573    0]\n",
            " [ 322    0]]\n"
          ]
        },
        {
          "name": "stderr",
          "output_type": "stream",
          "text": [
            "/usr/local/lib/python3.7/dist-packages/sklearn/base.py:444: UserWarning: X has feature names, but LogisticRegression was fitted without feature names\n",
            "  f\"X has feature names, but {self.__class__.__name__} was fitted without\"\n"
          ]
        }
      ],
      "source": [
        "predSel = sel.estimator_.predict(X_test[variables])\n",
        "print(np.unique(predSel, return_counts = True))\n",
        "print(metrics.confusion_matrix(y_test, predSel))"
      ]
    },
    {
      "cell_type": "markdown",
      "metadata": {
        "id": "HmXrPCswOYxc"
      },
      "source": [
        "## KNN"
      ]
    },
    {
      "cell_type": "code",
      "execution_count": 207,
      "metadata": {
        "id": "CqmoT94v9kvI"
      },
      "outputs": [],
      "source": [
        "from sklearn.neighbors import KNeighborsClassifier\n",
        "\n",
        "#Create KNN Classifier\n",
        "knn = KNeighborsClassifier(n_neighbors=1)\n",
        "\n",
        "#Train the model using the training sets\n",
        "knn.fit(X_train, y_train)\n",
        "\n",
        "#Predict the response for test dataset\n",
        "y_pred = knn.predict(X_test)"
      ]
    },
    {
      "cell_type": "code",
      "execution_count": 208,
      "metadata": {
        "colab": {
          "base_uri": "https://localhost:8080/",
          "height": 112
        },
        "id": "-Ht9iWTs9thp",
        "outputId": "12b4c73f-2ff0-480e-8da9-107acb710429"
      },
      "outputs": [
        {
          "output_type": "execute_result",
          "data": {
            "text/plain": [
              "       pred_0  pred_1\n",
              "obs_0    1584     114\n",
              "obs_1     156     188"
            ],
            "text/html": [
              "\n",
              "  <div id=\"df-433f2752-9c27-4c94-8ec4-d4f10d77923d\">\n",
              "    <div class=\"colab-df-container\">\n",
              "      <div>\n",
              "<style scoped>\n",
              "    .dataframe tbody tr th:only-of-type {\n",
              "        vertical-align: middle;\n",
              "    }\n",
              "\n",
              "    .dataframe tbody tr th {\n",
              "        vertical-align: top;\n",
              "    }\n",
              "\n",
              "    .dataframe thead th {\n",
              "        text-align: right;\n",
              "    }\n",
              "</style>\n",
              "<table border=\"1\" class=\"dataframe\">\n",
              "  <thead>\n",
              "    <tr style=\"text-align: right;\">\n",
              "      <th></th>\n",
              "      <th>pred_0</th>\n",
              "      <th>pred_1</th>\n",
              "    </tr>\n",
              "  </thead>\n",
              "  <tbody>\n",
              "    <tr>\n",
              "      <th>obs_0</th>\n",
              "      <td>1584</td>\n",
              "      <td>114</td>\n",
              "    </tr>\n",
              "    <tr>\n",
              "      <th>obs_1</th>\n",
              "      <td>156</td>\n",
              "      <td>188</td>\n",
              "    </tr>\n",
              "  </tbody>\n",
              "</table>\n",
              "</div>\n",
              "      <button class=\"colab-df-convert\" onclick=\"convertToInteractive('df-433f2752-9c27-4c94-8ec4-d4f10d77923d')\"\n",
              "              title=\"Convert this dataframe to an interactive table.\"\n",
              "              style=\"display:none;\">\n",
              "        \n",
              "  <svg xmlns=\"http://www.w3.org/2000/svg\" height=\"24px\"viewBox=\"0 0 24 24\"\n",
              "       width=\"24px\">\n",
              "    <path d=\"M0 0h24v24H0V0z\" fill=\"none\"/>\n",
              "    <path d=\"M18.56 5.44l.94 2.06.94-2.06 2.06-.94-2.06-.94-.94-2.06-.94 2.06-2.06.94zm-11 1L8.5 8.5l.94-2.06 2.06-.94-2.06-.94L8.5 2.5l-.94 2.06-2.06.94zm10 10l.94 2.06.94-2.06 2.06-.94-2.06-.94-.94-2.06-.94 2.06-2.06.94z\"/><path d=\"M17.41 7.96l-1.37-1.37c-.4-.4-.92-.59-1.43-.59-.52 0-1.04.2-1.43.59L10.3 9.45l-7.72 7.72c-.78.78-.78 2.05 0 2.83L4 21.41c.39.39.9.59 1.41.59.51 0 1.02-.2 1.41-.59l7.78-7.78 2.81-2.81c.8-.78.8-2.07 0-2.86zM5.41 20L4 18.59l7.72-7.72 1.47 1.35L5.41 20z\"/>\n",
              "  </svg>\n",
              "      </button>\n",
              "      \n",
              "  <style>\n",
              "    .colab-df-container {\n",
              "      display:flex;\n",
              "      flex-wrap:wrap;\n",
              "      gap: 12px;\n",
              "    }\n",
              "\n",
              "    .colab-df-convert {\n",
              "      background-color: #E8F0FE;\n",
              "      border: none;\n",
              "      border-radius: 50%;\n",
              "      cursor: pointer;\n",
              "      display: none;\n",
              "      fill: #1967D2;\n",
              "      height: 32px;\n",
              "      padding: 0 0 0 0;\n",
              "      width: 32px;\n",
              "    }\n",
              "\n",
              "    .colab-df-convert:hover {\n",
              "      background-color: #E2EBFA;\n",
              "      box-shadow: 0px 1px 2px rgba(60, 64, 67, 0.3), 0px 1px 3px 1px rgba(60, 64, 67, 0.15);\n",
              "      fill: #174EA6;\n",
              "    }\n",
              "\n",
              "    [theme=dark] .colab-df-convert {\n",
              "      background-color: #3B4455;\n",
              "      fill: #D2E3FC;\n",
              "    }\n",
              "\n",
              "    [theme=dark] .colab-df-convert:hover {\n",
              "      background-color: #434B5C;\n",
              "      box-shadow: 0px 1px 3px 1px rgba(0, 0, 0, 0.15);\n",
              "      filter: drop-shadow(0px 1px 2px rgba(0, 0, 0, 0.3));\n",
              "      fill: #FFFFFF;\n",
              "    }\n",
              "  </style>\n",
              "\n",
              "      <script>\n",
              "        const buttonEl =\n",
              "          document.querySelector('#df-433f2752-9c27-4c94-8ec4-d4f10d77923d button.colab-df-convert');\n",
              "        buttonEl.style.display =\n",
              "          google.colab.kernel.accessAllowed ? 'block' : 'none';\n",
              "\n",
              "        async function convertToInteractive(key) {\n",
              "          const element = document.querySelector('#df-433f2752-9c27-4c94-8ec4-d4f10d77923d');\n",
              "          const dataTable =\n",
              "            await google.colab.kernel.invokeFunction('convertToInteractive',\n",
              "                                                     [key], {});\n",
              "          if (!dataTable) return;\n",
              "\n",
              "          const docLinkHtml = 'Like what you see? Visit the ' +\n",
              "            '<a target=\"_blank\" href=https://colab.research.google.com/notebooks/data_table.ipynb>data table notebook</a>'\n",
              "            + ' to learn more about interactive tables.';\n",
              "          element.innerHTML = '';\n",
              "          dataTable['output_type'] = 'display_data';\n",
              "          await google.colab.output.renderOutput(dataTable, element);\n",
              "          const docLink = document.createElement('div');\n",
              "          docLink.innerHTML = docLinkHtml;\n",
              "          element.appendChild(docLink);\n",
              "        }\n",
              "      </script>\n",
              "    </div>\n",
              "  </div>\n",
              "  "
            ]
          },
          "metadata": {},
          "execution_count": 208
        }
      ],
      "source": [
        "from sklearn.metrics import confusion_matrix\n",
        "mc = pd.DataFrame(confusion_matrix(y_test,y_pred), \n",
        "                  columns=['pred_0','pred_1'],\n",
        "                  index=['obs_0','obs_1'])\n",
        "\n",
        "mc"
      ]
    },
    {
      "cell_type": "code",
      "execution_count": 209,
      "metadata": {
        "colab": {
          "base_uri": "https://localhost:8080/"
        },
        "id": "tnWHz6ct-P6U",
        "outputId": "cd88dd4f-b4db-4c48-8d49-a4ae30dc0b89"
      },
      "outputs": [
        {
          "output_type": "stream",
          "name": "stdout",
          "text": [
            "0.8677766895200784\n"
          ]
        }
      ],
      "source": [
        "from sklearn.metrics import accuracy_score, f1_score\n",
        "print(accuracy_score(y_test,y_pred))"
      ]
    },
    {
      "cell_type": "code",
      "execution_count": 210,
      "metadata": {
        "colab": {
          "base_uri": "https://localhost:8080/"
        },
        "id": "TwflyiIl-QAM",
        "outputId": "c12ca171-097d-45da-c841-9ece235ce260"
      },
      "outputs": [
        {
          "output_type": "stream",
          "name": "stdout",
          "text": [
            "f1_score : 0.7517546561198191\n"
          ]
        }
      ],
      "source": [
        "print('f1_score : ' + str(f1_score(y_test,y_pred, average='macro')))"
      ]
    },
    {
      "cell_type": "code",
      "execution_count": 191,
      "metadata": {
        "id": "WSonEh7N-WF3"
      },
      "outputs": [],
      "source": [
        "from sklearn.model_selection import GridSearchCV\n",
        "#cette fois-ci on utilise numpy pour générer des séquences à la place des listes\n",
        "parameters = {'n_neighbors' : np.arange(start = 1, stop = 50, step = 1)}"
      ]
    },
    {
      "cell_type": "code",
      "execution_count": null,
      "metadata": {
        "id": "ufp3rzPM-6vb"
      },
      "outputs": [],
      "source": [
        "from sklearn.metrics import make_scorer, f1_score\n",
        "\n",
        "knn = KNeighborsClassifier()\n",
        "f1 = make_scorer(f1_score , average='macro')\n",
        "knn = GridSearchCV(knn,\n",
        "                                  parameters,\n",
        "                                  scoring = f1,\n",
        "                                  verbose = 2, \n",
        "                                  cv = 5)\n",
        "knn.fit(X_train, y_train)"
      ]
    },
    {
      "cell_type": "code",
      "execution_count": 211,
      "metadata": {
        "colab": {
          "base_uri": "https://localhost:8080/",
          "height": 226
        },
        "id": "aCy8kXtw_NdL",
        "outputId": "8305a2e2-bf57-435d-bb38-58410d13bb95"
      },
      "outputs": [
        {
          "output_type": "error",
          "ename": "AttributeError",
          "evalue": "ignored",
          "traceback": [
            "\u001b[0;31m---------------------------------------------------------------------------\u001b[0m",
            "\u001b[0;31mAttributeError\u001b[0m                            Traceback (most recent call last)",
            "\u001b[0;32m<ipython-input-211-f3f2888a21bb>\u001b[0m in \u001b[0;36m<module>\u001b[0;34m\u001b[0m\n\u001b[1;32m      1\u001b[0m print(\"Voici les paramètres du meilleure modèle : \" + \n\u001b[0;32m----> 2\u001b[0;31m       str(knn.best_estimator_))\n\u001b[0m\u001b[1;32m      3\u001b[0m print(\"Voici le \"  + str(knn.scorer_) + \n\u001b[1;32m      4\u001b[0m       \" du meilleure modèle : \" + str(knn.best_score_))\n",
            "\u001b[0;31mAttributeError\u001b[0m: 'KNeighborsClassifier' object has no attribute 'best_estimator_'"
          ]
        }
      ],
      "source": [
        "print(\"Voici les paramètres du meilleure modèle : \" + \n",
        "      str(knn.best_estimator_))\n",
        "print(\"Voici le \"  + str(knn.scorer_) + \n",
        "      \" du meilleure modèle : \" + str(knn.best_score_))"
      ]
    },
    {
      "cell_type": "code",
      "execution_count": 212,
      "metadata": {
        "colab": {
          "base_uri": "https://localhost:8080/"
        },
        "id": "x09LRKg8_R5D",
        "outputId": "d1d10a6a-b262-4c62-b6e6-72d54d23fd0f"
      },
      "outputs": [
        {
          "output_type": "stream",
          "name": "stdout",
          "text": [
            "f1_score : 0.7517546561198191\n"
          ]
        }
      ],
      "source": [
        "y_pred = knn.predict(X_test)\n",
        "print('f1_score : ' + \n",
        "      str(f1_score(y_test,y_pred, average='macro')))"
      ]
    },
    {
      "cell_type": "markdown",
      "metadata": {
        "id": "qDm7IF1pVsIW"
      },
      "source": [
        "# Test sur submission"
      ]
    },
    {
      "cell_type": "code",
      "execution_count": 214,
      "metadata": {
        "id": "JxmVjXoWKS1a"
      },
      "outputs": [],
      "source": [
        "submission = pd.read_csv(\"submissions.csv\", sep = \";\", on_bad_lines='skip')\n",
        "\n",
        "submission = submission.replace(\",\", \".\", regex= True)\n",
        "submission = submission.apply(pd.to_numeric, downcast = \"float\", errors = \"coerce\")"
      ]
    },
    {
      "cell_type": "code",
      "execution_count": 215,
      "metadata": {
        "id": "qZpYsiniulgJ"
      },
      "outputs": [],
      "source": [
        "iid = submission[['iid',\"goal\", \"date\", \"go_out\", \"sports\", \"tvsports\", 'exercise', 'dining', 'museums', 'art', 'hiking', 'gaming',\n",
        "       'clubbing', 'reading', 'tv', 'theater', 'movies', 'concerts', 'music','shopping', 'yoga', \"exphappy\"]]\n",
        "iid = iid.drop_duplicates(\"iid\")\n",
        "\n",
        "iid = iid.rename(columns={\"iid\": \"pid\"})\n",
        "\n",
        "submission = submission.merge(iid, on = \"pid\", how = \"left\")"
      ]
    },
    {
      "cell_type": "code",
      "execution_count": 216,
      "metadata": {
        "id": "fS6fsvlnL_SF"
      },
      "outputs": [],
      "source": [
        "submission[\"diff_attr\"]  = abs(submission[\"attr1_1\"] - submission[\"pf_o_att\"])\n",
        "submission[\"diff_sinc\"] = abs(submission[\"sinc1_1\"] - submission[\"pf_o_sin\"])\n",
        "submission[\"diff_intel\"] = abs(submission[\"intel1_1\"] - submission[\"pf_o_int\"])\n",
        "submission[\"diff_fun\"] = abs(submission[\"fun1_1\"] - submission[\"pf_o_fun\"])\n",
        "submission[\"diff_amb\"] = abs(submission[\"amb1_1\"] - submission[\"pf_o_amb\"])\n",
        "submission[\"diff_shar\"] = abs(submission[\"shar1_1\"] - submission[\"pf_o_sha\"])\n",
        "submission[\"diff_age\"] = abs(submission[\"age\"] - submission[\"age_o\"])\n",
        "\n",
        "submission[\"diff_go_out\"] = abs(submission[\"go_out_x\"] - submission[\"go_out_y\"])\n",
        "submission[\"diff_date\"] = abs(submission[\"date_x\"] - submission[\"date_y\"])\n",
        "\n",
        "submission[\"diff_go_out\"] = [0 if el > 2 else 1 for el in submission[\"diff_go_out\"]]"
      ]
    },
    {
      "cell_type": "code",
      "execution_count": 217,
      "metadata": {
        "id": "sQZQe2FiPmcD"
      },
      "outputs": [],
      "source": [
        "submission = submission.fillna(submission.mean())"
      ]
    },
    {
      "cell_type": "code",
      "execution_count": 218,
      "metadata": {
        "id": "FlQtKAxXN-go"
      },
      "outputs": [],
      "source": [
        "submissions = submission[var_select]\n",
        "columns_sub = list(submissions.columns)"
      ]
    },
    {
      "cell_type": "code",
      "execution_count": 223,
      "metadata": {
        "id": "0QulEp9lMjHb"
      },
      "outputs": [],
      "source": [
        "pred = knn.predict(submissions)"
      ]
    },
    {
      "cell_type": "code",
      "execution_count": 224,
      "metadata": {
        "id": "Sk5bGT-UP2a3"
      },
      "outputs": [],
      "source": [
        "dict = {\"iid_pid\" : submission.iid_pid, \"target\" : pred}\n",
        "prediction = pd.DataFrame(dict)\n",
        "\n",
        "prediction = prediction.astype(int)"
      ]
    },
    {
      "cell_type": "code",
      "execution_count": 225,
      "metadata": {
        "colab": {
          "base_uri": "https://localhost:8080/",
          "height": 423
        },
        "id": "KeQ75-I8R-2M",
        "outputId": "e95a6089-57f8-469d-ec89-847b721de7b3"
      },
      "outputs": [
        {
          "output_type": "execute_result",
          "data": {
            "text/plain": [
              "      iid_pid  target\n",
              "0        6805       0\n",
              "1        6806       1\n",
              "2        6807       0\n",
              "3        6808       0\n",
              "4        6809       0\n",
              "...       ...     ...\n",
              "1569     8374       0\n",
              "1570     8375       0\n",
              "1571     8376       1\n",
              "1572     8377       0\n",
              "1573     8378       0\n",
              "\n",
              "[1574 rows x 2 columns]"
            ],
            "text/html": [
              "\n",
              "  <div id=\"df-7becad40-26f2-4ecc-aafb-65bcd0031e1a\">\n",
              "    <div class=\"colab-df-container\">\n",
              "      <div>\n",
              "<style scoped>\n",
              "    .dataframe tbody tr th:only-of-type {\n",
              "        vertical-align: middle;\n",
              "    }\n",
              "\n",
              "    .dataframe tbody tr th {\n",
              "        vertical-align: top;\n",
              "    }\n",
              "\n",
              "    .dataframe thead th {\n",
              "        text-align: right;\n",
              "    }\n",
              "</style>\n",
              "<table border=\"1\" class=\"dataframe\">\n",
              "  <thead>\n",
              "    <tr style=\"text-align: right;\">\n",
              "      <th></th>\n",
              "      <th>iid_pid</th>\n",
              "      <th>target</th>\n",
              "    </tr>\n",
              "  </thead>\n",
              "  <tbody>\n",
              "    <tr>\n",
              "      <th>0</th>\n",
              "      <td>6805</td>\n",
              "      <td>0</td>\n",
              "    </tr>\n",
              "    <tr>\n",
              "      <th>1</th>\n",
              "      <td>6806</td>\n",
              "      <td>1</td>\n",
              "    </tr>\n",
              "    <tr>\n",
              "      <th>2</th>\n",
              "      <td>6807</td>\n",
              "      <td>0</td>\n",
              "    </tr>\n",
              "    <tr>\n",
              "      <th>3</th>\n",
              "      <td>6808</td>\n",
              "      <td>0</td>\n",
              "    </tr>\n",
              "    <tr>\n",
              "      <th>4</th>\n",
              "      <td>6809</td>\n",
              "      <td>0</td>\n",
              "    </tr>\n",
              "    <tr>\n",
              "      <th>...</th>\n",
              "      <td>...</td>\n",
              "      <td>...</td>\n",
              "    </tr>\n",
              "    <tr>\n",
              "      <th>1569</th>\n",
              "      <td>8374</td>\n",
              "      <td>0</td>\n",
              "    </tr>\n",
              "    <tr>\n",
              "      <th>1570</th>\n",
              "      <td>8375</td>\n",
              "      <td>0</td>\n",
              "    </tr>\n",
              "    <tr>\n",
              "      <th>1571</th>\n",
              "      <td>8376</td>\n",
              "      <td>1</td>\n",
              "    </tr>\n",
              "    <tr>\n",
              "      <th>1572</th>\n",
              "      <td>8377</td>\n",
              "      <td>0</td>\n",
              "    </tr>\n",
              "    <tr>\n",
              "      <th>1573</th>\n",
              "      <td>8378</td>\n",
              "      <td>0</td>\n",
              "    </tr>\n",
              "  </tbody>\n",
              "</table>\n",
              "<p>1574 rows × 2 columns</p>\n",
              "</div>\n",
              "      <button class=\"colab-df-convert\" onclick=\"convertToInteractive('df-7becad40-26f2-4ecc-aafb-65bcd0031e1a')\"\n",
              "              title=\"Convert this dataframe to an interactive table.\"\n",
              "              style=\"display:none;\">\n",
              "        \n",
              "  <svg xmlns=\"http://www.w3.org/2000/svg\" height=\"24px\"viewBox=\"0 0 24 24\"\n",
              "       width=\"24px\">\n",
              "    <path d=\"M0 0h24v24H0V0z\" fill=\"none\"/>\n",
              "    <path d=\"M18.56 5.44l.94 2.06.94-2.06 2.06-.94-2.06-.94-.94-2.06-.94 2.06-2.06.94zm-11 1L8.5 8.5l.94-2.06 2.06-.94-2.06-.94L8.5 2.5l-.94 2.06-2.06.94zm10 10l.94 2.06.94-2.06 2.06-.94-2.06-.94-.94-2.06-.94 2.06-2.06.94z\"/><path d=\"M17.41 7.96l-1.37-1.37c-.4-.4-.92-.59-1.43-.59-.52 0-1.04.2-1.43.59L10.3 9.45l-7.72 7.72c-.78.78-.78 2.05 0 2.83L4 21.41c.39.39.9.59 1.41.59.51 0 1.02-.2 1.41-.59l7.78-7.78 2.81-2.81c.8-.78.8-2.07 0-2.86zM5.41 20L4 18.59l7.72-7.72 1.47 1.35L5.41 20z\"/>\n",
              "  </svg>\n",
              "      </button>\n",
              "      \n",
              "  <style>\n",
              "    .colab-df-container {\n",
              "      display:flex;\n",
              "      flex-wrap:wrap;\n",
              "      gap: 12px;\n",
              "    }\n",
              "\n",
              "    .colab-df-convert {\n",
              "      background-color: #E8F0FE;\n",
              "      border: none;\n",
              "      border-radius: 50%;\n",
              "      cursor: pointer;\n",
              "      display: none;\n",
              "      fill: #1967D2;\n",
              "      height: 32px;\n",
              "      padding: 0 0 0 0;\n",
              "      width: 32px;\n",
              "    }\n",
              "\n",
              "    .colab-df-convert:hover {\n",
              "      background-color: #E2EBFA;\n",
              "      box-shadow: 0px 1px 2px rgba(60, 64, 67, 0.3), 0px 1px 3px 1px rgba(60, 64, 67, 0.15);\n",
              "      fill: #174EA6;\n",
              "    }\n",
              "\n",
              "    [theme=dark] .colab-df-convert {\n",
              "      background-color: #3B4455;\n",
              "      fill: #D2E3FC;\n",
              "    }\n",
              "\n",
              "    [theme=dark] .colab-df-convert:hover {\n",
              "      background-color: #434B5C;\n",
              "      box-shadow: 0px 1px 3px 1px rgba(0, 0, 0, 0.15);\n",
              "      filter: drop-shadow(0px 1px 2px rgba(0, 0, 0, 0.3));\n",
              "      fill: #FFFFFF;\n",
              "    }\n",
              "  </style>\n",
              "\n",
              "      <script>\n",
              "        const buttonEl =\n",
              "          document.querySelector('#df-7becad40-26f2-4ecc-aafb-65bcd0031e1a button.colab-df-convert');\n",
              "        buttonEl.style.display =\n",
              "          google.colab.kernel.accessAllowed ? 'block' : 'none';\n",
              "\n",
              "        async function convertToInteractive(key) {\n",
              "          const element = document.querySelector('#df-7becad40-26f2-4ecc-aafb-65bcd0031e1a');\n",
              "          const dataTable =\n",
              "            await google.colab.kernel.invokeFunction('convertToInteractive',\n",
              "                                                     [key], {});\n",
              "          if (!dataTable) return;\n",
              "\n",
              "          const docLinkHtml = 'Like what you see? Visit the ' +\n",
              "            '<a target=\"_blank\" href=https://colab.research.google.com/notebooks/data_table.ipynb>data table notebook</a>'\n",
              "            + ' to learn more about interactive tables.';\n",
              "          element.innerHTML = '';\n",
              "          dataTable['output_type'] = 'display_data';\n",
              "          await google.colab.output.renderOutput(dataTable, element);\n",
              "          const docLink = document.createElement('div');\n",
              "          docLink.innerHTML = docLinkHtml;\n",
              "          element.appendChild(docLink);\n",
              "        }\n",
              "      </script>\n",
              "    </div>\n",
              "  </div>\n",
              "  "
            ]
          },
          "metadata": {},
          "execution_count": 225
        }
      ],
      "source": [
        "prediction"
      ]
    },
    {
      "cell_type": "code",
      "execution_count": 226,
      "metadata": {
        "colab": {
          "base_uri": "https://localhost:8080/"
        },
        "id": "sGPJgTxl1SzF",
        "outputId": "e2819c31-3cb8-42c6-b9d6-a66c4b03707c"
      },
      "outputs": [
        {
          "output_type": "execute_result",
          "data": {
            "text/plain": [
              "0    1327\n",
              "1     247\n",
              "Name: target, dtype: int64"
            ]
          },
          "metadata": {},
          "execution_count": 226
        }
      ],
      "source": [
        "prediction.target.value_counts()"
      ]
    },
    {
      "cell_type": "markdown",
      "metadata": {
        "id": "Asw6ajXsVn3q"
      },
      "source": [
        "# Submit on Kaggle"
      ]
    },
    {
      "cell_type": "code",
      "execution_count": 227,
      "metadata": {
        "colab": {
          "base_uri": "https://localhost:8080/",
          "height": 362
        },
        "id": "ppIo2FZ1J2QA",
        "outputId": "64a99677-55da-43e2-da3f-2c91ad5eeb15"
      },
      "outputs": [
        {
          "output_type": "display_data",
          "data": {
            "text/plain": [
              "<IPython.core.display.HTML object>"
            ],
            "text/html": [
              "\n",
              "     <input type=\"file\" id=\"files-6e6724a5-34fc-4e48-89a7-29ae0ecb1625\" name=\"files[]\" multiple disabled\n",
              "        style=\"border:none\" />\n",
              "     <output id=\"result-6e6724a5-34fc-4e48-89a7-29ae0ecb1625\">\n",
              "      Upload widget is only available when the cell has been executed in the\n",
              "      current browser session. Please rerun this cell to enable.\n",
              "      </output>\n",
              "      <script>// Copyright 2017 Google LLC\n",
              "//\n",
              "// Licensed under the Apache License, Version 2.0 (the \"License\");\n",
              "// you may not use this file except in compliance with the License.\n",
              "// You may obtain a copy of the License at\n",
              "//\n",
              "//      http://www.apache.org/licenses/LICENSE-2.0\n",
              "//\n",
              "// Unless required by applicable law or agreed to in writing, software\n",
              "// distributed under the License is distributed on an \"AS IS\" BASIS,\n",
              "// WITHOUT WARRANTIES OR CONDITIONS OF ANY KIND, either express or implied.\n",
              "// See the License for the specific language governing permissions and\n",
              "// limitations under the License.\n",
              "\n",
              "/**\n",
              " * @fileoverview Helpers for google.colab Python module.\n",
              " */\n",
              "(function(scope) {\n",
              "function span(text, styleAttributes = {}) {\n",
              "  const element = document.createElement('span');\n",
              "  element.textContent = text;\n",
              "  for (const key of Object.keys(styleAttributes)) {\n",
              "    element.style[key] = styleAttributes[key];\n",
              "  }\n",
              "  return element;\n",
              "}\n",
              "\n",
              "// Max number of bytes which will be uploaded at a time.\n",
              "const MAX_PAYLOAD_SIZE = 100 * 1024;\n",
              "\n",
              "function _uploadFiles(inputId, outputId) {\n",
              "  const steps = uploadFilesStep(inputId, outputId);\n",
              "  const outputElement = document.getElementById(outputId);\n",
              "  // Cache steps on the outputElement to make it available for the next call\n",
              "  // to uploadFilesContinue from Python.\n",
              "  outputElement.steps = steps;\n",
              "\n",
              "  return _uploadFilesContinue(outputId);\n",
              "}\n",
              "\n",
              "// This is roughly an async generator (not supported in the browser yet),\n",
              "// where there are multiple asynchronous steps and the Python side is going\n",
              "// to poll for completion of each step.\n",
              "// This uses a Promise to block the python side on completion of each step,\n",
              "// then passes the result of the previous step as the input to the next step.\n",
              "function _uploadFilesContinue(outputId) {\n",
              "  const outputElement = document.getElementById(outputId);\n",
              "  const steps = outputElement.steps;\n",
              "\n",
              "  const next = steps.next(outputElement.lastPromiseValue);\n",
              "  return Promise.resolve(next.value.promise).then((value) => {\n",
              "    // Cache the last promise value to make it available to the next\n",
              "    // step of the generator.\n",
              "    outputElement.lastPromiseValue = value;\n",
              "    return next.value.response;\n",
              "  });\n",
              "}\n",
              "\n",
              "/**\n",
              " * Generator function which is called between each async step of the upload\n",
              " * process.\n",
              " * @param {string} inputId Element ID of the input file picker element.\n",
              " * @param {string} outputId Element ID of the output display.\n",
              " * @return {!Iterable<!Object>} Iterable of next steps.\n",
              " */\n",
              "function* uploadFilesStep(inputId, outputId) {\n",
              "  const inputElement = document.getElementById(inputId);\n",
              "  inputElement.disabled = false;\n",
              "\n",
              "  const outputElement = document.getElementById(outputId);\n",
              "  outputElement.innerHTML = '';\n",
              "\n",
              "  const pickedPromise = new Promise((resolve) => {\n",
              "    inputElement.addEventListener('change', (e) => {\n",
              "      resolve(e.target.files);\n",
              "    });\n",
              "  });\n",
              "\n",
              "  const cancel = document.createElement('button');\n",
              "  inputElement.parentElement.appendChild(cancel);\n",
              "  cancel.textContent = 'Cancel upload';\n",
              "  const cancelPromise = new Promise((resolve) => {\n",
              "    cancel.onclick = () => {\n",
              "      resolve(null);\n",
              "    };\n",
              "  });\n",
              "\n",
              "  // Wait for the user to pick the files.\n",
              "  const files = yield {\n",
              "    promise: Promise.race([pickedPromise, cancelPromise]),\n",
              "    response: {\n",
              "      action: 'starting',\n",
              "    }\n",
              "  };\n",
              "\n",
              "  cancel.remove();\n",
              "\n",
              "  // Disable the input element since further picks are not allowed.\n",
              "  inputElement.disabled = true;\n",
              "\n",
              "  if (!files) {\n",
              "    return {\n",
              "      response: {\n",
              "        action: 'complete',\n",
              "      }\n",
              "    };\n",
              "  }\n",
              "\n",
              "  for (const file of files) {\n",
              "    const li = document.createElement('li');\n",
              "    li.append(span(file.name, {fontWeight: 'bold'}));\n",
              "    li.append(span(\n",
              "        `(${file.type || 'n/a'}) - ${file.size} bytes, ` +\n",
              "        `last modified: ${\n",
              "            file.lastModifiedDate ? file.lastModifiedDate.toLocaleDateString() :\n",
              "                                    'n/a'} - `));\n",
              "    const percent = span('0% done');\n",
              "    li.appendChild(percent);\n",
              "\n",
              "    outputElement.appendChild(li);\n",
              "\n",
              "    const fileDataPromise = new Promise((resolve) => {\n",
              "      const reader = new FileReader();\n",
              "      reader.onload = (e) => {\n",
              "        resolve(e.target.result);\n",
              "      };\n",
              "      reader.readAsArrayBuffer(file);\n",
              "    });\n",
              "    // Wait for the data to be ready.\n",
              "    let fileData = yield {\n",
              "      promise: fileDataPromise,\n",
              "      response: {\n",
              "        action: 'continue',\n",
              "      }\n",
              "    };\n",
              "\n",
              "    // Use a chunked sending to avoid message size limits. See b/62115660.\n",
              "    let position = 0;\n",
              "    do {\n",
              "      const length = Math.min(fileData.byteLength - position, MAX_PAYLOAD_SIZE);\n",
              "      const chunk = new Uint8Array(fileData, position, length);\n",
              "      position += length;\n",
              "\n",
              "      const base64 = btoa(String.fromCharCode.apply(null, chunk));\n",
              "      yield {\n",
              "        response: {\n",
              "          action: 'append',\n",
              "          file: file.name,\n",
              "          data: base64,\n",
              "        },\n",
              "      };\n",
              "\n",
              "      let percentDone = fileData.byteLength === 0 ?\n",
              "          100 :\n",
              "          Math.round((position / fileData.byteLength) * 100);\n",
              "      percent.textContent = `${percentDone}% done`;\n",
              "\n",
              "    } while (position < fileData.byteLength);\n",
              "  }\n",
              "\n",
              "  // All done.\n",
              "  yield {\n",
              "    response: {\n",
              "      action: 'complete',\n",
              "    }\n",
              "  };\n",
              "}\n",
              "\n",
              "scope.google = scope.google || {};\n",
              "scope.google.colab = scope.google.colab || {};\n",
              "scope.google.colab._files = {\n",
              "  _uploadFiles,\n",
              "  _uploadFilesContinue,\n",
              "};\n",
              "})(self);\n",
              "</script> "
            ]
          },
          "metadata": {}
        },
        {
          "output_type": "error",
          "ename": "KeyboardInterrupt",
          "evalue": "ignored",
          "traceback": [
            "\u001b[0;31m---------------------------------------------------------------------------\u001b[0m",
            "\u001b[0;31mKeyboardInterrupt\u001b[0m                         Traceback (most recent call last)",
            "\u001b[0;32m<ipython-input-227-5c2e8a8d365b>\u001b[0m in \u001b[0;36m<module>\u001b[0;34m\u001b[0m\n\u001b[1;32m      1\u001b[0m \u001b[0;32mfrom\u001b[0m \u001b[0mgoogle\u001b[0m\u001b[0;34m.\u001b[0m\u001b[0mcolab\u001b[0m \u001b[0;32mimport\u001b[0m \u001b[0mfiles\u001b[0m\u001b[0;34m\u001b[0m\u001b[0;34m\u001b[0m\u001b[0m\n\u001b[0;32m----> 2\u001b[0;31m \u001b[0mfiles\u001b[0m\u001b[0;34m.\u001b[0m\u001b[0mupload\u001b[0m\u001b[0;34m(\u001b[0m\u001b[0;34m)\u001b[0m\u001b[0;34m\u001b[0m\u001b[0;34m\u001b[0m\u001b[0m\n\u001b[0m",
            "\u001b[0;32m/usr/local/lib/python3.7/dist-packages/google/colab/files.py\u001b[0m in \u001b[0;36mupload\u001b[0;34m()\u001b[0m\n\u001b[1;32m     65\u001b[0m   \"\"\"\n\u001b[1;32m     66\u001b[0m \u001b[0;34m\u001b[0m\u001b[0m\n\u001b[0;32m---> 67\u001b[0;31m   \u001b[0muploaded_files\u001b[0m \u001b[0;34m=\u001b[0m \u001b[0m_upload_files\u001b[0m\u001b[0;34m(\u001b[0m\u001b[0mmultiple\u001b[0m\u001b[0;34m=\u001b[0m\u001b[0;32mTrue\u001b[0m\u001b[0;34m)\u001b[0m\u001b[0;34m\u001b[0m\u001b[0;34m\u001b[0m\u001b[0m\n\u001b[0m\u001b[1;32m     68\u001b[0m   \u001b[0;31m# Mapping from original filename to filename as saved locally.\u001b[0m\u001b[0;34m\u001b[0m\u001b[0;34m\u001b[0m\u001b[0;34m\u001b[0m\u001b[0m\n\u001b[1;32m     69\u001b[0m   \u001b[0mlocal_filenames\u001b[0m \u001b[0;34m=\u001b[0m \u001b[0mdict\u001b[0m\u001b[0;34m(\u001b[0m\u001b[0;34m)\u001b[0m\u001b[0;34m\u001b[0m\u001b[0;34m\u001b[0m\u001b[0m\n",
            "\u001b[0;32m/usr/local/lib/python3.7/dist-packages/google/colab/files.py\u001b[0m in \u001b[0;36m_upload_files\u001b[0;34m(multiple)\u001b[0m\n\u001b[1;32m    144\u001b[0m   result = _output.eval_js(\n\u001b[1;32m    145\u001b[0m       'google.colab._files._uploadFiles(\"{input_id}\", \"{output_id}\")'.format(\n\u001b[0;32m--> 146\u001b[0;31m           input_id=input_id, output_id=output_id))\n\u001b[0m\u001b[1;32m    147\u001b[0m   \u001b[0mfiles\u001b[0m \u001b[0;34m=\u001b[0m \u001b[0m_collections\u001b[0m\u001b[0;34m.\u001b[0m\u001b[0mdefaultdict\u001b[0m\u001b[0;34m(\u001b[0m\u001b[0mbytes\u001b[0m\u001b[0;34m)\u001b[0m\u001b[0;34m\u001b[0m\u001b[0;34m\u001b[0m\u001b[0m\n\u001b[1;32m    148\u001b[0m \u001b[0;34m\u001b[0m\u001b[0m\n",
            "\u001b[0;32m/usr/local/lib/python3.7/dist-packages/google/colab/output/_js.py\u001b[0m in \u001b[0;36meval_js\u001b[0;34m(script, ignore_result, timeout_sec)\u001b[0m\n\u001b[1;32m     38\u001b[0m   \u001b[0;32mif\u001b[0m \u001b[0mignore_result\u001b[0m\u001b[0;34m:\u001b[0m\u001b[0;34m\u001b[0m\u001b[0;34m\u001b[0m\u001b[0m\n\u001b[1;32m     39\u001b[0m     \u001b[0;32mreturn\u001b[0m\u001b[0;34m\u001b[0m\u001b[0;34m\u001b[0m\u001b[0m\n\u001b[0;32m---> 40\u001b[0;31m   \u001b[0;32mreturn\u001b[0m \u001b[0m_message\u001b[0m\u001b[0;34m.\u001b[0m\u001b[0mread_reply_from_input\u001b[0m\u001b[0;34m(\u001b[0m\u001b[0mrequest_id\u001b[0m\u001b[0;34m,\u001b[0m \u001b[0mtimeout_sec\u001b[0m\u001b[0;34m)\u001b[0m\u001b[0;34m\u001b[0m\u001b[0;34m\u001b[0m\u001b[0m\n\u001b[0m\u001b[1;32m     41\u001b[0m \u001b[0;34m\u001b[0m\u001b[0m\n\u001b[1;32m     42\u001b[0m \u001b[0;34m\u001b[0m\u001b[0m\n",
            "\u001b[0;32m/usr/local/lib/python3.7/dist-packages/google/colab/_message.py\u001b[0m in \u001b[0;36mread_reply_from_input\u001b[0;34m(message_id, timeout_sec)\u001b[0m\n\u001b[1;32m     95\u001b[0m     \u001b[0mreply\u001b[0m \u001b[0;34m=\u001b[0m \u001b[0m_read_next_input_message\u001b[0m\u001b[0;34m(\u001b[0m\u001b[0;34m)\u001b[0m\u001b[0;34m\u001b[0m\u001b[0;34m\u001b[0m\u001b[0m\n\u001b[1;32m     96\u001b[0m     \u001b[0;32mif\u001b[0m \u001b[0mreply\u001b[0m \u001b[0;34m==\u001b[0m \u001b[0m_NOT_READY\u001b[0m \u001b[0;32mor\u001b[0m \u001b[0;32mnot\u001b[0m \u001b[0misinstance\u001b[0m\u001b[0;34m(\u001b[0m\u001b[0mreply\u001b[0m\u001b[0;34m,\u001b[0m \u001b[0mdict\u001b[0m\u001b[0;34m)\u001b[0m\u001b[0;34m:\u001b[0m\u001b[0;34m\u001b[0m\u001b[0;34m\u001b[0m\u001b[0m\n\u001b[0;32m---> 97\u001b[0;31m       \u001b[0mtime\u001b[0m\u001b[0;34m.\u001b[0m\u001b[0msleep\u001b[0m\u001b[0;34m(\u001b[0m\u001b[0;36m0.025\u001b[0m\u001b[0;34m)\u001b[0m\u001b[0;34m\u001b[0m\u001b[0;34m\u001b[0m\u001b[0m\n\u001b[0m\u001b[1;32m     98\u001b[0m       \u001b[0;32mcontinue\u001b[0m\u001b[0;34m\u001b[0m\u001b[0;34m\u001b[0m\u001b[0m\n\u001b[1;32m     99\u001b[0m     if (reply.get('type') == 'colab_reply' and\n",
            "\u001b[0;31mKeyboardInterrupt\u001b[0m: "
          ]
        }
      ],
      "source": [
        "from google.colab import files\n",
        "files.upload()"
      ]
    },
    {
      "cell_type": "code",
      "execution_count": null,
      "metadata": {
        "id": "Lxe3HF_wKCiI"
      },
      "outputs": [],
      "source": [
        "!mkdir -p ~/.kaggle\n",
        "!cp kaggle.json ~/.kaggle/"
      ]
    },
    {
      "cell_type": "code",
      "execution_count": null,
      "metadata": {
        "id": "jkupHvitKD7Q"
      },
      "outputs": [],
      "source": [
        "!pip install kaggle"
      ]
    },
    {
      "cell_type": "code",
      "execution_count": null,
      "metadata": {
        "id": "Av3MLienQXja"
      },
      "outputs": [],
      "source": [
        "!chmod 600 /root/.kaggle/kaggle.json"
      ]
    },
    {
      "cell_type": "code",
      "execution_count": null,
      "metadata": {
        "id": "OusluZuIQZYa"
      },
      "outputs": [],
      "source": [
        "!kaggle competitions download -c easydate-ai-match"
      ]
    },
    {
      "cell_type": "code",
      "execution_count": 228,
      "metadata": {
        "id": "MKSUKTn5Qar6"
      },
      "outputs": [],
      "source": [
        "prediction.to_csv(\"my_submission.csv\", index=False, header=True)"
      ]
    },
    {
      "cell_type": "code",
      "execution_count": null,
      "metadata": {
        "id": "QrqOZknTQbwa"
      },
      "outputs": [],
      "source": [
        "# submit the file to kaggle\n",
        "!kaggle competitions submit easydate-ai-match -f my_submission.csv -m \"Yeah! I submit my file through the Google Colab!\""
      ]
    }
  ],
  "metadata": {
    "colab": {
      "provenance": []
    },
    "kernelspec": {
      "display_name": "Python 3",
      "name": "python3"
    },
    "language_info": {
      "name": "python"
    }
  },
  "nbformat": 4,
  "nbformat_minor": 0
}